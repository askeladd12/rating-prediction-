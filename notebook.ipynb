{
 "cells": [
  {
   "cell_type": "code",
   "metadata": {
    "tags": [],
    "cell_id": "48232b14-35ad-4ac6-b7ea-ec33da626955",
    "deepnote_to_be_reexecuted": false,
    "source_hash": "11545f1c",
    "execution_start": 1656540694429,
    "execution_millis": 1061,
    "deepnote_cell_type": "code",
    "deepnote_cell_height": 153
   },
   "source": "import sklearn \nimport pandas as pd\nimport numpy as np\nimport matplotlib as plt\nimport seaborn as sns",
   "execution_count": 1,
   "outputs": []
  },
  {
   "cell_type": "markdown",
   "source": "Exploracion de datos",
   "metadata": {
    "cell_id": "e83f68f895be41f3b24ac42aaa6bef58",
    "tags": [],
    "deepnote_cell_type": "markdown",
    "deepnote_cell_height": 52.390625
   }
  },
  {
   "cell_type": "code",
   "metadata": {
    "cell_id": "9d3f73500dc54010b8454f6eeb7029ab",
    "tags": [],
    "deepnote_to_be_reexecuted": false,
    "source_hash": "3cf9f026",
    "execution_start": 1656540695493,
    "execution_millis": 193,
    "owner_user_id": "16812039-9342-4c6c-b137-7f47003d751a",
    "deepnote_cell_type": "code",
    "deepnote_cell_height": 144
   },
   "source": "data = pd.read_csv('/work/rating-prediction-/books.csv', error_bad_lines = False)",
   "execution_count": 2,
   "outputs": [
    {
     "name": "stderr",
     "text": "b'Skipping line 3350: expected 12 fields, saw 13\\nSkipping line 4704: expected 12 fields, saw 13\\nSkipping line 5879: expected 12 fields, saw 13\\nSkipping line 8981: expected 12 fields, saw 13\\n'\n",
     "output_type": "stream"
    }
   ]
  },
  {
   "cell_type": "code",
   "metadata": {
    "cell_id": "5bfd7d961d904765a76243e3aad409ce",
    "tags": [],
    "deepnote_to_be_reexecuted": false,
    "source_hash": "957547ae",
    "execution_start": 1656540695540,
    "execution_millis": 148,
    "deepnote_cell_type": "code",
    "deepnote_cell_height": 472
   },
   "source": "data.info()",
   "execution_count": 3,
   "outputs": [
    {
     "name": "stdout",
     "text": "<class 'pandas.core.frame.DataFrame'>\nRangeIndex: 11123 entries, 0 to 11122\nData columns (total 12 columns):\n #   Column              Non-Null Count  Dtype  \n---  ------              --------------  -----  \n 0   bookID              11123 non-null  int64  \n 1   title               11123 non-null  object \n 2   authors             11123 non-null  object \n 3   average_rating      11123 non-null  float64\n 4   isbn                11123 non-null  object \n 5   isbn13              11123 non-null  int64  \n 6   language_code       11123 non-null  object \n 7     num_pages         11123 non-null  int64  \n 8   ratings_count       11123 non-null  int64  \n 9   text_reviews_count  11123 non-null  int64  \n 10  publication_date    11123 non-null  object \n 11  publisher           11123 non-null  object \ndtypes: float64(1), int64(5), object(6)\nmemory usage: 1.0+ MB\n",
     "output_type": "stream"
    }
   ]
  },
  {
   "cell_type": "markdown",
   "source": "Limpieza de datos ",
   "metadata": {
    "cell_id": "acc34cc0225f44b09e355e0bd27aaebd",
    "tags": [],
    "deepnote_cell_type": "markdown",
    "deepnote_cell_height": 52.390625
   }
  },
  {
   "cell_type": "code",
   "metadata": {
    "cell_id": "6a2b73ed487b4e1d88a19d901f37f8fa",
    "tags": [],
    "deepnote_to_be_reexecuted": false,
    "source_hash": "d5ca7bc1",
    "execution_start": 1656540695553,
    "execution_millis": 136,
    "deepnote_cell_type": "code",
    "deepnote_cell_height": 118.1875,
    "deepnote_output_heights": [
     21.1875
    ]
   },
   "source": "data.duplicated().any()",
   "execution_count": 4,
   "outputs": [
    {
     "output_type": "execute_result",
     "execution_count": 4,
     "data": {
      "text/plain": "False"
     },
     "metadata": {}
    }
   ]
  },
  {
   "cell_type": "markdown",
   "source": "head map para verificar el resultado",
   "metadata": {
    "cell_id": "e563e79b53c14637976fd5930e66d7c2",
    "tags": [],
    "deepnote_cell_type": "markdown",
    "deepnote_cell_height": 52.390625
   }
  },
  {
   "cell_type": "code",
   "metadata": {
    "cell_id": "1a612fed9fd34ca08e422d1cba73876a",
    "tags": [],
    "deepnote_to_be_reexecuted": false,
    "source_hash": "7040a583",
    "execution_start": 1656540695576,
    "execution_millis": 621,
    "deepnote_cell_type": "code",
    "deepnote_cell_height": 490.1875,
    "deepnote_output_heights": [
     21.1875,
     341
    ]
   },
   "source": "sns.heatmap(data.isnull(), cmap='viridis')",
   "execution_count": 5,
   "outputs": [
    {
     "output_type": "execute_result",
     "execution_count": 5,
     "data": {
      "text/plain": "<AxesSubplot:>"
     },
     "metadata": {}
    },
    {
     "data": {
      "text/plain": "<Figure size 432x288 with 2 Axes>",
      "image/png": "[encoded data removed]"
     },
     "metadata": {
      "needs_background": "light",
      "image/png": {
       "width": 392,
       "height": 339
      }
     },
     "output_type": "display_data"
    }
   ]
  },
  {
   "cell_type": "code",
   "metadata": {
    "cell_id": "60970389353e440c970188229dabd9ce",
    "tags": [],
    "deepnote_to_be_reexecuted": false,
    "source_hash": "73cb7ef8",
    "execution_start": 1656540696200,
    "execution_millis": 40,
    "deepnote_cell_type": "code",
    "deepnote_cell_height": 429.796875
   },
   "source": "df = pd.DataFrame(data)\ndf.head()",
   "execution_count": 6,
   "outputs": [
    {
     "output_type": "execute_result",
     "execution_count": 6,
     "data": {
      "application/vnd.deepnote.dataframe.v3+json": {
       "column_count": 12,
       "row_count": 5,
       "columns": [
        {
         "name": "bookID",
         "dtype": "int64",
         "stats": {
          "unique_count": 5,
          "nan_count": 0,
          "min": "1",
          "max": "8",
          "histogram": [
           {
            "bin_start": 1,
            "bin_end": 1.7,
            "count": 1
           },
           {
            "bin_start": 1.7,
            "bin_end": 2.4,
            "count": 1
           },
           {
            "bin_start": 2.4,
            "bin_end": 3.0999999999999996,
            "count": 0
           },
           {
            "bin_start": 3.0999999999999996,
            "bin_end": 3.8,
            "count": 0
           },
           {
            "bin_start": 3.8,
            "bin_end": 4.5,
            "count": 1
           },
           {
            "bin_start": 4.5,
            "bin_end": 5.199999999999999,
            "count": 1
           },
           {
            "bin_start": 5.199999999999999,
            "bin_end": 5.8999999999999995,
            "count": 0
           },
           {
            "bin_start": 5.8999999999999995,
            "bin_end": 6.6,
            "count": 0
           },
           {
            "bin_start": 6.6,
            "bin_end": 7.3,
            "count": 0
           },
           {
            "bin_start": 7.3,
            "bin_end": 8,
            "count": 1
           }
          ]
         }
        },
        {
         "name": "title",
         "dtype": "object",
         "stats": {
          "unique_count": 5,
          "nan_count": 0,
          "categories": [
           {
            "name": "Harry Potter and the Half-Blood Prince (Harry Potter  #6)",
            "count": 1
           },
           {
            "name": "Harry Potter and the Order of the Phoenix (Harry Potter  #5)",
            "count": 1
           },
           {
            "name": "3 others",
            "count": 3
           }
          ]
         }
        },
        {
         "name": "authors",
         "dtype": "object",
         "stats": {
          "unique_count": 2,
          "nan_count": 0,
          "categories": [
           {
            "name": "J.K. Rowling/Mary GrandPré",
            "count": 4
           },
           {
            "name": "J.K. Rowling",
            "count": 1
           }
          ]
         }
        },
        {
         "name": "average_rating",
         "dtype": "float64",
         "stats": {
          "unique_count": 5,
          "nan_count": 0,
          "min": "4.42",
          "max": "4.78",
          "histogram": [
           {
            "bin_start": 4.42,
            "bin_end": 4.4559999999999995,
            "count": 1
           },
           {
            "bin_start": 4.4559999999999995,
            "bin_end": 4.492,
            "count": 1
           },
           {
            "bin_start": 4.492,
            "bin_end": 4.5280000000000005,
            "count": 0
           },
           {
            "bin_start": 4.5280000000000005,
            "bin_end": 4.564,
            "count": 1
           },
           {
            "bin_start": 4.564,
            "bin_end": 4.6,
            "count": 1
           },
           {
            "bin_start": 4.6,
            "bin_end": 4.636,
            "count": 0
           },
           {
            "bin_start": 4.636,
            "bin_end": 4.672000000000001,
            "count": 0
           },
           {
            "bin_start": 4.672000000000001,
            "bin_end": 4.708,
            "count": 0
           },
           {
            "bin_start": 4.708,
            "bin_end": 4.744,
            "count": 0
           },
           {
            "bin_start": 4.744,
            "bin_end": 4.78,
            "count": 1
           }
          ]
         }
        },
        {
         "name": "isbn",
         "dtype": "object",
         "stats": {
          "unique_count": 5,
          "nan_count": 0,
          "categories": [
           {
            "name": "0439785960",
            "count": 1
           },
           {
            "name": "0439358078",
            "count": 1
           },
           {
            "name": "3 others",
            "count": 3
           }
          ]
         }
        },
        {
         "name": "isbn13",
         "dtype": "int64",
         "stats": {
          "unique_count": 5,
          "nan_count": 0,
          "min": "9780439358071",
          "max": "9780439785969",
          "histogram": [
           {
            "bin_start": 9780439358071,
            "bin_end": 9780439400860.8,
            "count": 1
           },
           {
            "bin_start": 9780439400860.8,
            "bin_end": 9780439443650.6,
            "count": 0
           },
           {
            "bin_start": 9780439443650.6,
            "bin_end": 9780439486440.4,
            "count": 0
           },
           {
            "bin_start": 9780439486440.4,
            "bin_end": 9780439529230.2,
            "count": 0
           },
           {
            "bin_start": 9780439529230.2,
            "bin_end": 9780439572020,
            "count": 1
           },
           {
            "bin_start": 9780439572020,
            "bin_end": 9780439614809.8,
            "count": 0
           },
           {
            "bin_start": 9780439614809.8,
            "bin_end": 9780439657599.6,
            "count": 1
           },
           {
            "bin_start": 9780439657599.6,
            "bin_end": 9780439700389.4,
            "count": 1
           },
           {
            "bin_start": 9780439700389.4,
            "bin_end": 9780439743179.2,
            "count": 0
           },
           {
            "bin_start": 9780439743179.2,
            "bin_end": 9780439785969,
            "count": 1
           }
          ]
         }
        },
        {
         "name": "language_code",
         "dtype": "object",
         "stats": {
          "unique_count": 1,
          "nan_count": 0,
          "categories": [
           {
            "name": "eng",
            "count": 5
           }
          ]
         }
        },
        {
         "name": "  num_pages",
         "dtype": "int64",
         "stats": {
          "unique_count": 5,
          "nan_count": 0,
          "min": "352",
          "max": "2690",
          "histogram": [
           {
            "bin_start": 352,
            "bin_end": 585.8,
            "count": 2
           },
           {
            "bin_start": 585.8,
            "bin_end": 819.6,
            "count": 1
           },
           {
            "bin_start": 819.6,
            "bin_end": 1053.4,
            "count": 1
           },
           {
            "bin_start": 1053.4,
            "bin_end": 1287.2,
            "count": 0
           },
           {
            "bin_start": 1287.2,
            "bin_end": 1521,
            "count": 0
           },
           {
            "bin_start": 1521,
            "bin_end": 1754.8000000000002,
            "count": 0
           },
           {
            "bin_start": 1754.8000000000002,
            "bin_end": 1988.6000000000001,
            "count": 0
           },
           {
            "bin_start": 1988.6000000000001,
            "bin_end": 2222.4,
            "count": 0
           },
           {
            "bin_start": 2222.4,
            "bin_end": 2456.2000000000003,
            "count": 0
           },
           {
            "bin_start": 2456.2000000000003,
            "bin_end": 2690,
            "count": 1
           }
          ]
         }
        },
        {
         "name": "ratings_count",
         "dtype": "int64",
         "stats": {
          "unique_count": 5,
          "nan_count": 0,
          "min": "6333",
          "max": "2339585",
          "histogram": [
           {
            "bin_start": 6333,
            "bin_end": 239658.2,
            "count": 2
           },
           {
            "bin_start": 239658.2,
            "bin_end": 472983.4,
            "count": 0
           },
           {
            "bin_start": 472983.4,
            "bin_end": 706308.6000000001,
            "count": 0
           },
           {
            "bin_start": 706308.6000000001,
            "bin_end": 939633.8,
            "count": 0
           },
           {
            "bin_start": 939633.8,
            "bin_end": 1172959,
            "count": 0
           },
           {
            "bin_start": 1172959,
            "bin_end": 1406284.2000000002,
            "count": 0
           },
           {
            "bin_start": 1406284.2000000002,
            "bin_end": 1639609.4000000001,
            "count": 0
           },
           {
            "bin_start": 1639609.4000000001,
            "bin_end": 1872934.6,
            "count": 0
           },
           {
            "bin_start": 1872934.6,
            "bin_end": 2106259.8000000003,
            "count": 1
           },
           {
            "bin_start": 2106259.8000000003,
            "bin_end": 2339585,
            "count": 2
           }
          ]
         }
        },
        {
         "name": "text_reviews_count",
         "dtype": "int64",
         "stats": {
          "unique_count": 5,
          "nan_count": 0,
          "min": "164",
          "max": "36325",
          "histogram": [
           {
            "bin_start": 164,
            "bin_end": 3780.1,
            "count": 2
           },
           {
            "bin_start": 3780.1,
            "bin_end": 7396.2,
            "count": 0
           },
           {
            "bin_start": 7396.2,
            "bin_end": 11012.3,
            "count": 0
           },
           {
            "bin_start": 11012.3,
            "bin_end": 14628.4,
            "count": 0
           },
           {
            "bin_start": 14628.4,
            "bin_end": 18244.5,
            "count": 0
           },
           {
            "bin_start": 18244.5,
            "bin_end": 21860.6,
            "count": 0
           },
           {
            "bin_start": 21860.6,
            "bin_end": 25476.7,
            "count": 0
           },
           {
            "bin_start": 25476.7,
            "bin_end": 29092.8,
            "count": 1
           },
           {
            "bin_start": 29092.8,
            "bin_end": 32708.899999999998,
            "count": 1
           },
           {
            "bin_start": 32708.899999999998,
            "bin_end": 36325,
            "count": 1
           }
          ]
         }
        },
        {
         "name": "publication_date",
         "dtype": "object",
         "stats": {
          "unique_count": 5,
          "nan_count": 0,
          "categories": [
           {
            "name": "9/16/2006",
            "count": 1
           },
           {
            "name": "9/1/2004",
            "count": 1
           },
           {
            "name": "3 others",
            "count": 3
           }
          ]
         }
        },
        {
         "name": "publisher",
         "dtype": "object",
         "stats": {
          "unique_count": 2,
          "nan_count": 0,
          "categories": [
           {
            "name": "Scholastic Inc.",
            "count": 3
           },
           {
            "name": "Scholastic",
            "count": 2
           }
          ]
         }
        },
        {
         "name": "_deepnote_index_column",
         "dtype": "int64"
        }
       ],
       "rows": [
        {
         "bookID": 1,
         "title": "Harry Potter and the Half-Blood Prince (Harry Potter  #6)",
         "authors": "J.K. Rowling/Mary GrandPré",
         "average_rating": 4.57,
         "isbn": "0439785960",
         "isbn13": 9780439785969,
         "language_code": "eng",
         "  num_pages": 652,
         "ratings_count": 2095690,
         "text_reviews_count": 27591,
         "publication_date": "9/16/2006",
         "publisher": "Scholastic Inc.",
         "_deepnote_index_column": 0
        },
        {
         "bookID": 2,
         "title": "Harry Potter and the Order of the Phoenix (Harry Potter  #5)",
         "authors": "J.K. Rowling/Mary GrandPré",
         "average_rating": 4.49,
         "isbn": "0439358078",
         "isbn13": 9780439358071,
         "language_code": "eng",
         "  num_pages": 870,
         "ratings_count": 2153167,
         "text_reviews_count": 29221,
         "publication_date": "9/1/2004",
         "publisher": "Scholastic Inc.",
         "_deepnote_index_column": 1
        },
        {
         "bookID": 4,
         "title": "Harry Potter and the Chamber of Secrets (Harry Potter  #2)",
         "authors": "J.K. Rowling",
         "average_rating": 4.42,
         "isbn": "0439554896",
         "isbn13": 9780439554893,
         "language_code": "eng",
         "  num_pages": 352,
         "ratings_count": 6333,
         "text_reviews_count": 244,
         "publication_date": "11/1/2003",
         "publisher": "Scholastic",
         "_deepnote_index_column": 2
        },
        {
         "bookID": 5,
         "title": "Harry Potter and the Prisoner of Azkaban (Harry Potter  #3)",
         "authors": "J.K. Rowling/Mary GrandPré",
         "average_rating": 4.56,
         "isbn": "043965548X",
         "isbn13": 9780439655484,
         "language_code": "eng",
         "  num_pages": 435,
         "ratings_count": 2339585,
         "text_reviews_count": 36325,
         "publication_date": "5/1/2004",
         "publisher": "Scholastic Inc.",
         "_deepnote_index_column": 3
        },
        {
         "bookID": 8,
         "title": "Harry Potter Boxed Set  Books 1-5 (Harry Potter  #1-5)",
         "authors": "J.K. Rowling/Mary GrandPré",
         "average_rating": 4.78,
         "isbn": "0439682584",
         "isbn13": 9780439682589,
         "language_code": "eng",
         "  num_pages": 2690,
         "ratings_count": 41428,
         "text_reviews_count": 164,
         "publication_date": "9/13/2004",
         "publisher": "Scholastic",
         "_deepnote_index_column": 4
        }
       ]
      },
      "text/plain": "   bookID                                              title  \\\n0       1  Harry Potter and the Half-Blood Prince (Harry ...   \n1       2  Harry Potter and the Order of the Phoenix (Har...   \n2       4  Harry Potter and the Chamber of Secrets (Harry...   \n3       5  Harry Potter and the Prisoner of Azkaban (Harr...   \n4       8  Harry Potter Boxed Set  Books 1-5 (Harry Potte...   \n\n                      authors  average_rating        isbn         isbn13  \\\n0  J.K. Rowling/Mary GrandPré            4.57  0439785960  9780439785969   \n1  J.K. Rowling/Mary GrandPré            4.49  0439358078  9780439358071   \n2                J.K. Rowling            4.42  0439554896  9780439554893   \n3  J.K. Rowling/Mary GrandPré            4.56  043965548X  9780439655484   \n4  J.K. Rowling/Mary GrandPré            4.78  0439682584  9780439682589   \n\n  language_code    num_pages  ratings_count  text_reviews_count  \\\n0           eng          652        2095690               27591   \n1           eng          870        2153167               29221   \n2           eng          352           6333                 244   \n3           eng          435        2339585               36325   \n4           eng         2690          41428                 164   \n\n  publication_date        publisher  \n0        9/16/2006  Scholastic Inc.  \n1         9/1/2004  Scholastic Inc.  \n2        11/1/2003       Scholastic  \n3         5/1/2004  Scholastic Inc.  \n4        9/13/2004       Scholastic  ",
      "text/html": "<div>\n<style scoped>\n    .dataframe tbody tr th:only-of-type {\n        vertical-align: middle;\n    }\n\n    .dataframe tbody tr th {\n        vertical-align: top;\n    }\n\n    .dataframe thead th {\n        text-align: right;\n    }\n</style>\n<table border=\"1\" class=\"dataframe\">\n  <thead>\n    <tr style=\"text-align: right;\">\n      <th></th>\n      <th>bookID</th>\n      <th>title</th>\n      <th>authors</th>\n      <th>average_rating</th>\n      <th>isbn</th>\n      <th>isbn13</th>\n      <th>language_code</th>\n      <th>num_pages</th>\n      <th>ratings_count</th>\n      <th>text_reviews_count</th>\n      <th>publication_date</th>\n      <th>publisher</th>\n    </tr>\n  </thead>\n  <tbody>\n    <tr>\n      <th>0</th>\n      <td>1</td>\n      <td>Harry Potter and the Half-Blood Prince (Harry ...</td>\n      <td>J.K. Rowling/Mary GrandPré</td>\n      <td>4.57</td>\n      <td>0439785960</td>\n      <td>9780439785969</td>\n      <td>eng</td>\n      <td>652</td>\n      <td>2095690</td>\n      <td>27591</td>\n      <td>9/16/2006</td>\n      <td>Scholastic Inc.</td>\n    </tr>\n    <tr>\n      <th>1</th>\n      <td>2</td>\n      <td>Harry Potter and the Order of the Phoenix (Har...</td>\n      <td>J.K. Rowling/Mary GrandPré</td>\n      <td>4.49</td>\n      <td>0439358078</td>\n      <td>9780439358071</td>\n      <td>eng</td>\n      <td>870</td>\n      <td>2153167</td>\n      <td>29221</td>\n      <td>9/1/2004</td>\n      <td>Scholastic Inc.</td>\n    </tr>\n    <tr>\n      <th>2</th>\n      <td>4</td>\n      <td>Harry Potter and the Chamber of Secrets (Harry...</td>\n      <td>J.K. Rowling</td>\n      <td>4.42</td>\n      <td>0439554896</td>\n      <td>9780439554893</td>\n      <td>eng</td>\n      <td>352</td>\n      <td>6333</td>\n      <td>244</td>\n      <td>11/1/2003</td>\n      <td>Scholastic</td>\n    </tr>\n    <tr>\n      <th>3</th>\n      <td>5</td>\n      <td>Harry Potter and the Prisoner of Azkaban (Harr...</td>\n      <td>J.K. Rowling/Mary GrandPré</td>\n      <td>4.56</td>\n      <td>043965548X</td>\n      <td>9780439655484</td>\n      <td>eng</td>\n      <td>435</td>\n      <td>2339585</td>\n      <td>36325</td>\n      <td>5/1/2004</td>\n      <td>Scholastic Inc.</td>\n    </tr>\n    <tr>\n      <th>4</th>\n      <td>8</td>\n      <td>Harry Potter Boxed Set  Books 1-5 (Harry Potte...</td>\n      <td>J.K. Rowling/Mary GrandPré</td>\n      <td>4.78</td>\n      <td>0439682584</td>\n      <td>9780439682589</td>\n      <td>eng</td>\n      <td>2690</td>\n      <td>41428</td>\n      <td>164</td>\n      <td>9/13/2004</td>\n      <td>Scholastic</td>\n    </tr>\n  </tbody>\n</table>\n</div>"
     },
     "metadata": {}
    }
   ]
  },
  {
   "cell_type": "code",
   "metadata": {
    "cell_id": "e642c05b29bf469b87d927aa2016a725",
    "tags": [],
    "deepnote_to_be_reexecuted": false,
    "source_hash": "35809e90",
    "execution_start": 1656540696241,
    "execution_millis": 2,
    "deepnote_cell_type": "code",
    "deepnote_cell_height": 112
   },
   "source": "print(df.shape)",
   "execution_count": 7,
   "outputs": [
    {
     "name": "stdout",
     "text": "(11123, 12)\n",
     "output_type": "stream"
    }
   ]
  },
  {
   "cell_type": "markdown",
   "source": "Analisis de datos",
   "metadata": {
    "cell_id": "e865f7be761e4ce28fc8818dd2f947ba",
    "tags": [],
    "deepnote_cell_type": "markdown",
    "deepnote_cell_height": 52.390625
   }
  },
  {
   "cell_type": "code",
   "metadata": {
    "cell_id": "d9f4f55d4bc84867937a370d65f60c3f",
    "tags": [],
    "deepnote_to_be_reexecuted": false,
    "source_hash": "f8bed762",
    "execution_start": 1656540696245,
    "execution_millis": 408,
    "deepnote_cell_type": "code",
    "deepnote_cell_height": 520.984375,
    "deepnote_output_heights": [
     309.1875,
     21.1875,
     265
    ]
   },
   "source": "#distribución del rating\nsns.distplot(df['average_rating'], hist=True, kde=True, bins=int(180/5), color = 'orange')\n",
   "execution_count": 8,
   "outputs": [
    {
     "name": "stderr",
     "text": "/shared-libs/python3.9/py/lib/python3.9/site-packages/seaborn/distributions.py:2619: FutureWarning: `distplot` is a deprecated function and will be removed in a future version. Please adapt your code to use either `displot` (a figure-level function with similar flexibility) or `histplot` (an axes-level function for histograms).\n  warnings.warn(msg, FutureWarning)\n",
     "output_type": "stream"
    },
    {
     "output_type": "execute_result",
     "execution_count": 8,
     "data": {
      "text/plain": "<AxesSubplot:xlabel='average_rating', ylabel='Density'>"
     },
     "metadata": {}
    },
    {
     "data": {
      "text/plain": "<Figure size 432x288 with 1 Axes>",
      "image/png": "[encoded data removed]"
     },
     "metadata": {
      "needs_background": "light",
      "image/png": {
       "width": 386,
       "height": 263
      }
     },
     "output_type": "display_data"
    }
   ]
  },
  {
   "cell_type": "code",
   "metadata": {
    "cell_id": "9fab5965fe85482baae8d495854313ed",
    "tags": [],
    "deepnote_to_be_reexecuted": false,
    "source_hash": "1e038327",
    "execution_start": 1656540696655,
    "execution_millis": 333,
    "deepnote_cell_type": "code",
    "deepnote_cell_height": 566,
    "deepnote_output_heights": [
     451,
     451
    ]
   },
   "source": "#top 5 languages\nlanguages = df['language_code'].value_counts().head(5).plot(kind = 'pie', autopct='%1.1f%%', figsize=(8, 8)).legend()",
   "execution_count": 9,
   "outputs": [
    {
     "data": {
      "text/plain": "<Figure size 576x576 with 1 Axes>",
      "image/png": "[encoded data removed]"
     },
     "metadata": {
      "image/png": {
       "width": 470,
       "height": 449
      }
     },
     "output_type": "display_data"
    }
   ]
  },
  {
   "cell_type": "code",
   "metadata": {
    "cell_id": "ff86b0dc9e0a4dd29e39caf09340be64",
    "tags": [],
    "deepnote_to_be_reexecuted": false,
    "source_hash": "c1fc74c8",
    "execution_start": 1656540696992,
    "execution_millis": 361,
    "deepnote_cell_type": "code",
    "deepnote_cell_height": 520.984375,
    "deepnote_output_heights": [
     null,
     21.1875,
     265
    ]
   },
   "source": "# top 10 highes rated books\npopular_books = df.nlargest(10, ['ratings_count']).set_index('title')['ratings_count']\nsns.barplot(popular_books, popular_books.index)",
   "execution_count": 10,
   "outputs": [
    {
     "name": "stderr",
     "text": "/shared-libs/python3.9/py/lib/python3.9/site-packages/seaborn/_decorators.py:36: FutureWarning: Pass the following variables as keyword args: x, y. From version 0.12, the only valid positional argument will be `data`, and passing other arguments without an explicit keyword will result in an error or misinterpretation.\n  warnings.warn(\n",
     "output_type": "stream"
    },
    {
     "output_type": "execute_result",
     "execution_count": 10,
     "data": {
      "text/plain": "<AxesSubplot:xlabel='ratings_count', ylabel='title'>"
     },
     "metadata": {}
    },
    {
     "data": {
      "text/plain": "<Figure size 432x288 with 1 Axes>",
      "image/png": "[encoded data removed]"
     },
     "metadata": {
      "needs_background": "light",
      "image/png": {
       "width": 670,
       "height": 263
      }
     },
     "output_type": "display_data"
    }
   ]
  },
  {
   "cell_type": "code",
   "metadata": {
    "cell_id": "4714534cbb79461d97a38d875727da57",
    "tags": [],
    "deepnote_to_be_reexecuted": false,
    "source_hash": "301573ec",
    "execution_start": 1656540697398,
    "execution_millis": 667,
    "deepnote_cell_type": "code",
    "deepnote_cell_height": 520.984375,
    "deepnote_output_heights": [
     null,
     21.1875,
     265
    ]
   },
   "source": "# top 10 highest reviewed books\nhighest_reviews = df.nlargest(10, ['text_reviews_count'])\nsns.barplot(highest_reviews['text_reviews_count'], highest_reviews['title'])",
   "execution_count": 11,
   "outputs": [
    {
     "name": "stderr",
     "text": "/shared-libs/python3.9/py/lib/python3.9/site-packages/seaborn/_decorators.py:36: FutureWarning: Pass the following variables as keyword args: x, y. From version 0.12, the only valid positional argument will be `data`, and passing other arguments without an explicit keyword will result in an error or misinterpretation.\n  warnings.warn(\n",
     "output_type": "stream"
    },
    {
     "output_type": "execute_result",
     "execution_count": 11,
     "data": {
      "text/plain": "<AxesSubplot:xlabel='text_reviews_count', ylabel='title'>"
     },
     "metadata": {}
    },
    {
     "data": {
      "text/plain": "<Figure size 432x288 with 1 Axes>",
      "image/png": "[encoded data removed]"
     },
     "metadata": {
      "needs_background": "light",
      "image/png": {
       "width": 666,
       "height": 263
      }
     },
     "output_type": "display_data"
    }
   ]
  },
  {
   "cell_type": "code",
   "metadata": {
    "cell_id": "85e6c46526a94bfea86eb302ea85c9a6",
    "tags": [],
    "deepnote_to_be_reexecuted": false,
    "source_hash": "d0763c48",
    "execution_start": 1656540697611,
    "execution_millis": 904,
    "deepnote_cell_type": "code",
    "deepnote_cell_height": 599.234375,
    "deepnote_output_heights": [
     null,
     21.1875,
     307.25
    ]
   },
   "source": "# top 10 books under 200 pages\nunder200 = df[df['  num_pages'] <= 200]\ntop10_under200 = under200.nlargest(10, ['ratings_count'])\nsns.set(rc = {'figure.figsize':(13,6)})\nsns.barplot(top10_under200['ratings_count'], top10_under200['title'], hue=top10_under200['average_rating'])",
   "execution_count": 12,
   "outputs": [
    {
     "name": "stderr",
     "text": "/shared-libs/python3.9/py/lib/python3.9/site-packages/seaborn/_decorators.py:36: FutureWarning: Pass the following variables as keyword args: x, y. From version 0.12, the only valid positional argument will be `data`, and passing other arguments without an explicit keyword will result in an error or misinterpretation.\n  warnings.warn(\n",
     "output_type": "stream"
    },
    {
     "output_type": "execute_result",
     "execution_count": 12,
     "data": {
      "text/plain": "<AxesSubplot:xlabel='ratings_count', ylabel='title'>"
     },
     "metadata": {}
    },
    {
     "data": {
      "text/plain": "<Figure size 936x432 with 1 Axes>",
      "image/png": "[encoded data removed]"
     },
     "metadata": {
      "image/png": {
       "width": 1070,
       "height": 377
      }
     },
     "output_type": "display_data"
    }
   ]
  },
  {
   "cell_type": "code",
   "metadata": {
    "cell_id": "0bfe59231bff422eb33bc7702a8c1daa",
    "tags": [],
    "deepnote_to_be_reexecuted": false,
    "source_hash": "b62250d0",
    "execution_start": 1656540698516,
    "execution_millis": 344,
    "deepnote_cell_type": "code",
    "deepnote_cell_height": 498.3125,
    "deepnote_output_heights": [
     null,
     21.1875,
     242.328125
    ]
   },
   "source": "# top 10 longest books\nlongest_books = df.nlargest(10, ['  num_pages']).set_index('title')\nsns.barplot(longest_books['  num_pages'], longest_books.index)",
   "execution_count": 13,
   "outputs": [
    {
     "name": "stderr",
     "text": "/shared-libs/python3.9/py/lib/python3.9/site-packages/seaborn/_decorators.py:36: FutureWarning: Pass the following variables as keyword args: x, y. From version 0.12, the only valid positional argument will be `data`, and passing other arguments without an explicit keyword will result in an error or misinterpretation.\n  warnings.warn(\n",
     "output_type": "stream"
    },
    {
     "output_type": "execute_result",
     "execution_count": 13,
     "data": {
      "text/plain": "<AxesSubplot:xlabel='  num_pages', ylabel='title'>"
     },
     "metadata": {}
    },
    {
     "data": {
      "text/plain": "<Figure size 936x432 with 1 Axes>",
      "image/png": "[encoded data removed]"
     },
     "metadata": {
      "image/png": {
       "width": 1359,
       "height": 377
      }
     },
     "output_type": "display_data"
    }
   ]
  },
  {
   "cell_type": "code",
   "metadata": {
    "cell_id": "50b6d19f64d841aba05feb814f61a391",
    "tags": [],
    "deepnote_to_be_reexecuted": false,
    "source_hash": "d9a11b64",
    "execution_start": 1656540698862,
    "execution_millis": 562,
    "deepnote_cell_type": "code",
    "deepnote_cell_height": 624.234375,
    "deepnote_output_heights": [
     null,
     21.1875,
     332.25
    ]
   },
   "source": "# top 10 authors with highest rated books\nsns.set(rc = {'figure.figsize':(13,6)})\nauthors = df.nlargest(10,'ratings_count').set_index('authors')\ngraph_rated_books = sns.barplot(authors['ratings_count'], authors.index, ci = None, hue = authors['title'])\ngraph_rated_books.set_xlabel('Total Ratings')",
   "execution_count": 14,
   "outputs": [
    {
     "name": "stderr",
     "text": "/shared-libs/python3.9/py/lib/python3.9/site-packages/seaborn/_decorators.py:36: FutureWarning: Pass the following variables as keyword args: x, y. From version 0.12, the only valid positional argument will be `data`, and passing other arguments without an explicit keyword will result in an error or misinterpretation.\n  warnings.warn(\n",
     "output_type": "stream"
    },
    {
     "output_type": "execute_result",
     "execution_count": 14,
     "data": {
      "text/plain": "Text(0.5, 0, 'Total Ratings')"
     },
     "metadata": {}
    },
    {
     "data": {
      "text/plain": "<Figure size 936x432 with 1 Axes>",
      "image/png": "[encoded data removed]"
     },
     "metadata": {
      "image/png": {
       "width": 989,
       "height": 377
      }
     },
     "output_type": "display_data"
    }
   ]
  },
  {
   "cell_type": "code",
   "metadata": {
    "cell_id": "a0a4620bef104d49b7b52497b2f3a5a0",
    "tags": [],
    "deepnote_to_be_reexecuted": false,
    "source_hash": "c84a2bed",
    "execution_start": 1656540699431,
    "execution_millis": 320,
    "deepnote_cell_type": "code",
    "deepnote_cell_height": 686.984375,
    "deepnote_output_heights": [
     null,
     21.1875,
     395
    ]
   },
   "source": "#top 10  authors with highest publications\ntop_authors = df['authors'].value_counts().head(10)\ngraph_publi = sns.barplot(top_authors, top_authors.index)\ngraph_publi.set_title('Authors with Highest Publication Count')\ngraph_publi.set_xlabel('No. of Publications')",
   "execution_count": 15,
   "outputs": [
    {
     "name": "stderr",
     "text": "/shared-libs/python3.9/py/lib/python3.9/site-packages/seaborn/_decorators.py:36: FutureWarning: Pass the following variables as keyword args: x, y. From version 0.12, the only valid positional argument will be `data`, and passing other arguments without an explicit keyword will result in an error or misinterpretation.\n  warnings.warn(\n",
     "output_type": "stream"
    },
    {
     "output_type": "execute_result",
     "execution_count": 15,
     "data": {
      "text/plain": "Text(0.5, 0, 'No. of Publications')"
     },
     "metadata": {}
    },
    {
     "data": {
      "text/plain": "<Figure size 936x432 with 1 Axes>",
      "image/png": "[encoded data removed]"
     },
     "metadata": {
      "image/png": {
       "width": 854,
       "height": 393
      }
     },
     "output_type": "display_data"
    }
   ]
  },
  {
   "cell_type": "code",
   "metadata": {
    "cell_id": "00e5f18e23244148bd4af8b6d98d7a32",
    "tags": [],
    "deepnote_to_be_reexecuted": false,
    "source_hash": "c4046c99",
    "execution_start": 1656540699757,
    "execution_millis": 1469,
    "deepnote_cell_type": "code",
    "deepnote_cell_height": 589.1875,
    "deepnote_output_heights": [
     21.1875,
     422
    ]
   },
   "source": "# visualise a bivariate distribution between ratings & no. of pages\nsns.jointplot(x = 'average_rating', y = '  num_pages', data = df)",
   "execution_count": 16,
   "outputs": [
    {
     "output_type": "execute_result",
     "execution_count": 16,
     "data": {
      "text/plain": "<seaborn.axisgrid.JointGrid at 0x7fb60cd0b520>"
     },
     "metadata": {}
    },
    {
     "data": {
      "text/plain": "<Figure size 432x432 with 3 Axes>",
      "image/png": "[encoded data removed]"
     },
     "metadata": {
      "image/png": {
       "width": 431,
       "height": 420
      }
     },
     "output_type": "display_data"
    }
   ]
  },
  {
   "cell_type": "markdown",
   "source": "vamos a visualizar cuales son esos valores atipicos que estan por encima de 4000 y por debajo de 7000 paginas",
   "metadata": {
    "cell_id": "90106ee68cca4bfe88b085720e123c76",
    "tags": [],
    "deepnote_cell_type": "markdown",
    "deepnote_cell_height": 52.390625
   }
  },
  {
   "cell_type": "code",
   "metadata": {
    "cell_id": "4e385528cf1745a9b98f7c7d8e04b4f8",
    "tags": [],
    "deepnote_to_be_reexecuted": false,
    "source_hash": "aeafa6e4",
    "execution_start": 1656540701231,
    "execution_millis": 34,
    "deepnote_table_state": {
     "pageSize": 10,
     "pageIndex": 0,
     "filters": [],
     "sortBy": [
      {
       "id": "  num_pages",
       "type": "desc"
      }
     ]
    },
    "deepnote_table_loading": false,
    "deepnote_cell_type": "code",
    "deepnote_cell_height": 338.796875
   },
   "source": "atypical = df.sort_values('  num_pages',ascending=False)\natypical.head(2)",
   "execution_count": 17,
   "outputs": [
    {
     "output_type": "execute_result",
     "execution_count": 17,
     "data": {
      "application/vnd.deepnote.dataframe.v3+json": {
       "column_count": 12,
       "row_count": 2,
       "columns": [
        {
         "name": "bookID",
         "dtype": "int64",
         "stats": {
          "unique_count": 2,
          "nan_count": 0,
          "min": "24520",
          "max": "25587",
          "histogram": [
           {
            "bin_start": 24520,
            "bin_end": 24626.7,
            "count": 1
           },
           {
            "bin_start": 24626.7,
            "bin_end": 24733.4,
            "count": 0
           },
           {
            "bin_start": 24733.4,
            "bin_end": 24840.1,
            "count": 0
           },
           {
            "bin_start": 24840.1,
            "bin_end": 24946.8,
            "count": 0
           },
           {
            "bin_start": 24946.8,
            "bin_end": 25053.5,
            "count": 0
           },
           {
            "bin_start": 25053.5,
            "bin_end": 25160.2,
            "count": 0
           },
           {
            "bin_start": 25160.2,
            "bin_end": 25266.9,
            "count": 0
           },
           {
            "bin_start": 25266.9,
            "bin_end": 25373.6,
            "count": 0
           },
           {
            "bin_start": 25373.6,
            "bin_end": 25480.3,
            "count": 0
           },
           {
            "bin_start": 25480.3,
            "bin_end": 25587,
            "count": 1
           }
          ]
         }
        },
        {
         "name": "title",
         "dtype": "object",
         "stats": {
          "unique_count": 2,
          "nan_count": 0,
          "categories": [
           {
            "name": "The Complete Aubrey/Maturin Novels (5 Volumes)",
            "count": 1
           },
           {
            "name": "The Second World War",
            "count": 1
           }
          ]
         }
        },
        {
         "name": "authors",
         "dtype": "object",
         "stats": {
          "unique_count": 2,
          "nan_count": 0,
          "categories": [
           {
            "name": "Patrick O'Brian",
            "count": 1
           },
           {
            "name": "Winston S. Churchill/John Keegan",
            "count": 1
           }
          ]
         }
        },
        {
         "name": "average_rating",
         "dtype": "float64",
         "stats": {
          "unique_count": 2,
          "nan_count": 0,
          "min": "4.45",
          "max": "4.7",
          "histogram": [
           {
            "bin_start": 4.45,
            "bin_end": 4.4750000000000005,
            "count": 1
           },
           {
            "bin_start": 4.4750000000000005,
            "bin_end": 4.5,
            "count": 0
           },
           {
            "bin_start": 4.5,
            "bin_end": 4.525,
            "count": 0
           },
           {
            "bin_start": 4.525,
            "bin_end": 4.55,
            "count": 0
           },
           {
            "bin_start": 4.55,
            "bin_end": 4.575,
            "count": 0
           },
           {
            "bin_start": 4.575,
            "bin_end": 4.6000000000000005,
            "count": 0
           },
           {
            "bin_start": 4.6000000000000005,
            "bin_end": 4.625,
            "count": 0
           },
           {
            "bin_start": 4.625,
            "bin_end": 4.65,
            "count": 0
           },
           {
            "bin_start": 4.65,
            "bin_end": 4.675,
            "count": 0
           },
           {
            "bin_start": 4.675,
            "bin_end": 4.7,
            "count": 1
           }
          ]
         }
        },
        {
         "name": "isbn",
         "dtype": "object",
         "stats": {
          "unique_count": 2,
          "nan_count": 0,
          "categories": [
           {
            "name": "039306011X",
            "count": 1
           },
           {
            "name": "039541685X",
            "count": 1
           }
          ]
         }
        },
        {
         "name": "isbn13",
         "dtype": "int64",
         "stats": {
          "unique_count": 2,
          "nan_count": 0,
          "min": "9780393060119",
          "max": "9780395416853",
          "histogram": [
           {
            "bin_start": 9780393060119,
            "bin_end": 9780393295792.4,
            "count": 1
           },
           {
            "bin_start": 9780393295792.4,
            "bin_end": 9780393531465.8,
            "count": 0
           },
           {
            "bin_start": 9780393531465.8,
            "bin_end": 9780393767139.2,
            "count": 0
           },
           {
            "bin_start": 9780393767139.2,
            "bin_end": 9780394002812.6,
            "count": 0
           },
           {
            "bin_start": 9780394002812.6,
            "bin_end": 9780394238486,
            "count": 0
           },
           {
            "bin_start": 9780394238486,
            "bin_end": 9780394474159.4,
            "count": 0
           },
           {
            "bin_start": 9780394474159.4,
            "bin_end": 9780394709832.8,
            "count": 0
           },
           {
            "bin_start": 9780394709832.8,
            "bin_end": 9780394945506.2,
            "count": 0
           },
           {
            "bin_start": 9780394945506.2,
            "bin_end": 9780395181179.6,
            "count": 0
           },
           {
            "bin_start": 9780395181179.6,
            "bin_end": 9780395416853,
            "count": 1
           }
          ]
         }
        },
        {
         "name": "language_code",
         "dtype": "object",
         "stats": {
          "unique_count": 1,
          "nan_count": 0,
          "categories": [
           {
            "name": "eng",
            "count": 2
           }
          ]
         }
        },
        {
         "name": "  num_pages",
         "dtype": "int64",
         "stats": {
          "unique_count": 2,
          "nan_count": 0,
          "min": "4736",
          "max": "6576",
          "histogram": [
           {
            "bin_start": 4736,
            "bin_end": 4920,
            "count": 1
           },
           {
            "bin_start": 4920,
            "bin_end": 5104,
            "count": 0
           },
           {
            "bin_start": 5104,
            "bin_end": 5288,
            "count": 0
           },
           {
            "bin_start": 5288,
            "bin_end": 5472,
            "count": 0
           },
           {
            "bin_start": 5472,
            "bin_end": 5656,
            "count": 0
           },
           {
            "bin_start": 5656,
            "bin_end": 5840,
            "count": 0
           },
           {
            "bin_start": 5840,
            "bin_end": 6024,
            "count": 0
           },
           {
            "bin_start": 6024,
            "bin_end": 6208,
            "count": 0
           },
           {
            "bin_start": 6208,
            "bin_end": 6392,
            "count": 0
           },
           {
            "bin_start": 6392,
            "bin_end": 6576,
            "count": 1
           }
          ]
         }
        },
        {
         "name": "ratings_count",
         "dtype": "int64",
         "stats": {
          "unique_count": 2,
          "nan_count": 0,
          "min": "1338",
          "max": "1493",
          "histogram": [
           {
            "bin_start": 1338,
            "bin_end": 1353.5,
            "count": 1
           },
           {
            "bin_start": 1353.5,
            "bin_end": 1369,
            "count": 0
           },
           {
            "bin_start": 1369,
            "bin_end": 1384.5,
            "count": 0
           },
           {
            "bin_start": 1384.5,
            "bin_end": 1400,
            "count": 0
           },
           {
            "bin_start": 1400,
            "bin_end": 1415.5,
            "count": 0
           },
           {
            "bin_start": 1415.5,
            "bin_end": 1431,
            "count": 0
           },
           {
            "bin_start": 1431,
            "bin_end": 1446.5,
            "count": 0
           },
           {
            "bin_start": 1446.5,
            "bin_end": 1462,
            "count": 0
           },
           {
            "bin_start": 1462,
            "bin_end": 1477.5,
            "count": 0
           },
           {
            "bin_start": 1477.5,
            "bin_end": 1493,
            "count": 1
           }
          ]
         }
        },
        {
         "name": "text_reviews_count",
         "dtype": "int64",
         "stats": {
          "unique_count": 2,
          "nan_count": 0,
          "min": "81",
          "max": "99",
          "histogram": [
           {
            "bin_start": 81,
            "bin_end": 82.8,
            "count": 1
           },
           {
            "bin_start": 82.8,
            "bin_end": 84.6,
            "count": 0
           },
           {
            "bin_start": 84.6,
            "bin_end": 86.4,
            "count": 0
           },
           {
            "bin_start": 86.4,
            "bin_end": 88.2,
            "count": 0
           },
           {
            "bin_start": 88.2,
            "bin_end": 90,
            "count": 0
           },
           {
            "bin_start": 90,
            "bin_end": 91.8,
            "count": 0
           },
           {
            "bin_start": 91.8,
            "bin_end": 93.6,
            "count": 0
           },
           {
            "bin_start": 93.6,
            "bin_end": 95.4,
            "count": 0
           },
           {
            "bin_start": 95.4,
            "bin_end": 97.2,
            "count": 0
           },
           {
            "bin_start": 97.2,
            "bin_end": 99,
            "count": 1
           }
          ]
         }
        },
        {
         "name": "publication_date",
         "dtype": "object",
         "stats": {
          "unique_count": 2,
          "nan_count": 0,
          "categories": [
           {
            "name": "10/17/2004",
            "count": 1
           },
           {
            "name": "5/9/1986",
            "count": 1
           }
          ]
         }
        },
        {
         "name": "publisher",
         "dtype": "object",
         "stats": {
          "unique_count": 2,
          "nan_count": 0,
          "categories": [
           {
            "name": "W. W. Norton  Company",
            "count": 1
           },
           {
            "name": "Mariner Books",
            "count": 1
           }
          ]
         }
        },
        {
         "name": "_deepnote_index_column",
         "dtype": "int64"
        }
       ],
       "rows": [
        {
         "bookID": 24520,
         "title": "The Complete Aubrey/Maturin Novels (5 Volumes)",
         "authors": "Patrick O'Brian",
         "average_rating": 4.7,
         "isbn": "039306011X",
         "isbn13": 9780393060119,
         "language_code": "eng",
         "  num_pages": 6576,
         "ratings_count": 1338,
         "text_reviews_count": 81,
         "publication_date": "10/17/2004",
         "publisher": "W. W. Norton  Company",
         "_deepnote_index_column": 6497
        },
        {
         "bookID": 25587,
         "title": "The Second World War",
         "authors": "Winston S. Churchill/John Keegan",
         "average_rating": 4.45,
         "isbn": "039541685X",
         "isbn13": 9780395416853,
         "language_code": "eng",
         "  num_pages": 4736,
         "ratings_count": 1493,
         "text_reviews_count": 99,
         "publication_date": "5/9/1986",
         "publisher": "Mariner Books",
         "_deepnote_index_column": 6802
        }
       ]
      },
      "text/plain": "      bookID                                           title  \\\n6497   24520  The Complete Aubrey/Maturin Novels (5 Volumes)   \n6802   25587                            The Second World War   \n\n                               authors  average_rating        isbn  \\\n6497                   Patrick O'Brian            4.70  039306011X   \n6802  Winston S. Churchill/John Keegan            4.45  039541685X   \n\n             isbn13 language_code    num_pages  ratings_count  \\\n6497  9780393060119           eng         6576           1338   \n6802  9780395416853           eng         4736           1493   \n\n      text_reviews_count publication_date              publisher  \n6497                  81       10/17/2004  W. W. Norton  Company  \n6802                  99         5/9/1986          Mariner Books  ",
      "text/html": "<div>\n<style scoped>\n    .dataframe tbody tr th:only-of-type {\n        vertical-align: middle;\n    }\n\n    .dataframe tbody tr th {\n        vertical-align: top;\n    }\n\n    .dataframe thead th {\n        text-align: right;\n    }\n</style>\n<table border=\"1\" class=\"dataframe\">\n  <thead>\n    <tr style=\"text-align: right;\">\n      <th></th>\n      <th>bookID</th>\n      <th>title</th>\n      <th>authors</th>\n      <th>average_rating</th>\n      <th>isbn</th>\n      <th>isbn13</th>\n      <th>language_code</th>\n      <th>num_pages</th>\n      <th>ratings_count</th>\n      <th>text_reviews_count</th>\n      <th>publication_date</th>\n      <th>publisher</th>\n    </tr>\n  </thead>\n  <tbody>\n    <tr>\n      <th>6497</th>\n      <td>24520</td>\n      <td>The Complete Aubrey/Maturin Novels (5 Volumes)</td>\n      <td>Patrick O'Brian</td>\n      <td>4.70</td>\n      <td>039306011X</td>\n      <td>9780393060119</td>\n      <td>eng</td>\n      <td>6576</td>\n      <td>1338</td>\n      <td>81</td>\n      <td>10/17/2004</td>\n      <td>W. W. Norton  Company</td>\n    </tr>\n    <tr>\n      <th>6802</th>\n      <td>25587</td>\n      <td>The Second World War</td>\n      <td>Winston S. Churchill/John Keegan</td>\n      <td>4.45</td>\n      <td>039541685X</td>\n      <td>9780395416853</td>\n      <td>eng</td>\n      <td>4736</td>\n      <td>1493</td>\n      <td>99</td>\n      <td>5/9/1986</td>\n      <td>Mariner Books</td>\n    </tr>\n  </tbody>\n</table>\n</div>"
     },
     "metadata": {}
    }
   ]
  },
  {
   "cell_type": "markdown",
   "source": "encontramos que los dos libros con datos atipicos son The Complete Aubrey/Maturin Novels (5 Volumes) y\nThe Second World War por los autores Patrick O Brian y Winston S. Churchill ",
   "metadata": {
    "cell_id": "db9cc6dab75942979adbc874c92d3996",
    "tags": [],
    "deepnote_cell_type": "markdown",
    "deepnote_cell_height": 74.796875
   }
  },
  {
   "cell_type": "code",
   "metadata": {
    "cell_id": "a78a0e71d4fc4c30b958d178ff7b5f01",
    "tags": [],
    "deepnote_to_be_reexecuted": false,
    "source_hash": "1c0c47a2",
    "execution_start": 1656540701271,
    "execution_millis": 8028,
    "deepnote_cell_type": "code",
    "deepnote_cell_height": 589,
    "deepnote_output_heights": [
     21.1875,
     422
    ]
   },
   "source": "# visualise a bivariate distribution between ratings & no. of reviews\nsns.jointplot(x = 'average_rating', y = 'text_reviews_count', data = df)",
   "execution_count": 18,
   "outputs": [
    {
     "output_type": "execute_result",
     "execution_count": 18,
     "data": {
      "text/plain": "<seaborn.axisgrid.JointGrid at 0x7fb608b3f4c0>"
     },
     "metadata": {}
    },
    {
     "data": {
      "text/plain": "<Figure size 432x432 with 3 Axes>",
      "image/png": "[encoded data removed]"
     },
     "metadata": {
      "image/png": {
       "width": 438,
       "height": 420
      }
     },
     "output_type": "display_data"
    }
   ]
  },
  {
   "cell_type": "code",
   "metadata": {
    "cell_id": "3e88c69362e1455da9271dafb7f53fcb",
    "tags": [],
    "deepnote_to_be_reexecuted": false,
    "source_hash": "20b7f6db",
    "execution_start": 1656540709300,
    "execution_millis": 34,
    "deepnote_cell_type": "code",
    "deepnote_cell_height": 307
   },
   "source": "atypical2 = df.sort_values('text_reviews_count',ascending=False)\natypical2.head(2)",
   "execution_count": 19,
   "outputs": [
    {
     "output_type": "execute_result",
     "execution_count": 19,
     "data": {
      "application/vnd.deepnote.dataframe.v3+json": {
       "column_count": 12,
       "row_count": 2,
       "columns": [
        {
         "name": "bookID",
         "dtype": "int64",
         "stats": {
          "unique_count": 2,
          "nan_count": 0,
          "min": "19063",
          "max": "41865",
          "histogram": [
           {
            "bin_start": 19063,
            "bin_end": 21343.2,
            "count": 1
           },
           {
            "bin_start": 21343.2,
            "bin_end": 23623.4,
            "count": 0
           },
           {
            "bin_start": 23623.4,
            "bin_end": 25903.6,
            "count": 0
           },
           {
            "bin_start": 25903.6,
            "bin_end": 28183.8,
            "count": 0
           },
           {
            "bin_start": 28183.8,
            "bin_end": 30464,
            "count": 0
           },
           {
            "bin_start": 30464,
            "bin_end": 32744.199999999997,
            "count": 0
           },
           {
            "bin_start": 32744.199999999997,
            "bin_end": 35024.399999999994,
            "count": 0
           },
           {
            "bin_start": 35024.399999999994,
            "bin_end": 37304.6,
            "count": 0
           },
           {
            "bin_start": 37304.6,
            "bin_end": 39584.8,
            "count": 0
           },
           {
            "bin_start": 39584.8,
            "bin_end": 41865,
            "count": 1
           }
          ]
         }
        },
        {
         "name": "title",
         "dtype": "object",
         "stats": {
          "unique_count": 2,
          "nan_count": 0,
          "categories": [
           {
            "name": "Twilight (Twilight  #1)",
            "count": 1
           },
           {
            "name": "The Book Thief",
            "count": 1
           }
          ]
         }
        },
        {
         "name": "authors",
         "dtype": "object",
         "stats": {
          "unique_count": 2,
          "nan_count": 0,
          "categories": [
           {
            "name": "Stephenie Meyer",
            "count": 1
           },
           {
            "name": "Markus Zusak/Cao Xuân Việt Khương",
            "count": 1
           }
          ]
         }
        },
        {
         "name": "average_rating",
         "dtype": "float64",
         "stats": {
          "unique_count": 2,
          "nan_count": 0,
          "min": "3.59",
          "max": "4.37",
          "histogram": [
           {
            "bin_start": 3.59,
            "bin_end": 3.6679999999999997,
            "count": 1
           },
           {
            "bin_start": 3.6679999999999997,
            "bin_end": 3.746,
            "count": 0
           },
           {
            "bin_start": 3.746,
            "bin_end": 3.824,
            "count": 0
           },
           {
            "bin_start": 3.824,
            "bin_end": 3.902,
            "count": 0
           },
           {
            "bin_start": 3.902,
            "bin_end": 3.98,
            "count": 0
           },
           {
            "bin_start": 3.98,
            "bin_end": 4.058,
            "count": 0
           },
           {
            "bin_start": 4.058,
            "bin_end": 4.136,
            "count": 0
           },
           {
            "bin_start": 4.136,
            "bin_end": 4.214,
            "count": 0
           },
           {
            "bin_start": 4.214,
            "bin_end": 4.292,
            "count": 0
           },
           {
            "bin_start": 4.292,
            "bin_end": 4.37,
            "count": 1
           }
          ]
         }
        },
        {
         "name": "isbn",
         "dtype": "object",
         "stats": {
          "unique_count": 2,
          "nan_count": 0,
          "categories": [
           {
            "name": "0316015849",
            "count": 1
           },
           {
            "name": "0375831002",
            "count": 1
           }
          ]
         }
        },
        {
         "name": "isbn13",
         "dtype": "int64",
         "stats": {
          "unique_count": 2,
          "nan_count": 0,
          "min": "9780316015844",
          "max": "9780375831003",
          "histogram": [
           {
            "bin_start": 9780316015844,
            "bin_end": 9780321997359.9,
            "count": 1
           },
           {
            "bin_start": 9780321997359.9,
            "bin_end": 9780327978875.8,
            "count": 0
           },
           {
            "bin_start": 9780327978875.8,
            "bin_end": 9780333960391.7,
            "count": 0
           },
           {
            "bin_start": 9780333960391.7,
            "bin_end": 9780339941907.6,
            "count": 0
           },
           {
            "bin_start": 9780339941907.6,
            "bin_end": 9780345923423.5,
            "count": 0
           },
           {
            "bin_start": 9780345923423.5,
            "bin_end": 9780351904939.4,
            "count": 0
           },
           {
            "bin_start": 9780351904939.4,
            "bin_end": 9780357886455.3,
            "count": 0
           },
           {
            "bin_start": 9780357886455.3,
            "bin_end": 9780363867971.2,
            "count": 0
           },
           {
            "bin_start": 9780363867971.2,
            "bin_end": 9780369849487.1,
            "count": 0
           },
           {
            "bin_start": 9780369849487.1,
            "bin_end": 9780375831003,
            "count": 1
           }
          ]
         }
        },
        {
         "name": "language_code",
         "dtype": "object",
         "stats": {
          "unique_count": 1,
          "nan_count": 0,
          "categories": [
           {
            "name": "eng",
            "count": 2
           }
          ]
         }
        },
        {
         "name": "  num_pages",
         "dtype": "int64",
         "stats": {
          "unique_count": 2,
          "nan_count": 0,
          "min": "501",
          "max": "552",
          "histogram": [
           {
            "bin_start": 501,
            "bin_end": 506.1,
            "count": 1
           },
           {
            "bin_start": 506.1,
            "bin_end": 511.2,
            "count": 0
           },
           {
            "bin_start": 511.2,
            "bin_end": 516.3,
            "count": 0
           },
           {
            "bin_start": 516.3,
            "bin_end": 521.4,
            "count": 0
           },
           {
            "bin_start": 521.4,
            "bin_end": 526.5,
            "count": 0
           },
           {
            "bin_start": 526.5,
            "bin_end": 531.6,
            "count": 0
           },
           {
            "bin_start": 531.6,
            "bin_end": 536.7,
            "count": 0
           },
           {
            "bin_start": 536.7,
            "bin_end": 541.8,
            "count": 0
           },
           {
            "bin_start": 541.8,
            "bin_end": 546.9,
            "count": 0
           },
           {
            "bin_start": 546.9,
            "bin_end": 552,
            "count": 1
           }
          ]
         }
        },
        {
         "name": "ratings_count",
         "dtype": "int64",
         "stats": {
          "unique_count": 2,
          "nan_count": 0,
          "min": "1516367",
          "max": "4597666",
          "histogram": [
           {
            "bin_start": 1516367,
            "bin_end": 1824496.9,
            "count": 1
           },
           {
            "bin_start": 1824496.9,
            "bin_end": 2132626.8,
            "count": 0
           },
           {
            "bin_start": 2132626.8,
            "bin_end": 2440756.7,
            "count": 0
           },
           {
            "bin_start": 2440756.7,
            "bin_end": 2748886.6,
            "count": 0
           },
           {
            "bin_start": 2748886.6,
            "bin_end": 3057016.5,
            "count": 0
           },
           {
            "bin_start": 3057016.5,
            "bin_end": 3365146.4000000004,
            "count": 0
           },
           {
            "bin_start": 3365146.4000000004,
            "bin_end": 3673276.3000000003,
            "count": 0
           },
           {
            "bin_start": 3673276.3000000003,
            "bin_end": 3981406.2,
            "count": 0
           },
           {
            "bin_start": 3981406.2,
            "bin_end": 4289536.1,
            "count": 0
           },
           {
            "bin_start": 4289536.1,
            "bin_end": 4597666,
            "count": 1
           }
          ]
         }
        },
        {
         "name": "text_reviews_count",
         "dtype": "int64",
         "stats": {
          "unique_count": 2,
          "nan_count": 0,
          "min": "86881",
          "max": "94265",
          "histogram": [
           {
            "bin_start": 86881,
            "bin_end": 87619.4,
            "count": 1
           },
           {
            "bin_start": 87619.4,
            "bin_end": 88357.8,
            "count": 0
           },
           {
            "bin_start": 88357.8,
            "bin_end": 89096.2,
            "count": 0
           },
           {
            "bin_start": 89096.2,
            "bin_end": 89834.6,
            "count": 0
           },
           {
            "bin_start": 89834.6,
            "bin_end": 90573,
            "count": 0
           },
           {
            "bin_start": 90573,
            "bin_end": 91311.4,
            "count": 0
           },
           {
            "bin_start": 91311.4,
            "bin_end": 92049.8,
            "count": 0
           },
           {
            "bin_start": 92049.8,
            "bin_end": 92788.2,
            "count": 0
           },
           {
            "bin_start": 92788.2,
            "bin_end": 93526.6,
            "count": 0
           },
           {
            "bin_start": 93526.6,
            "bin_end": 94265,
            "count": 1
           }
          ]
         }
        },
        {
         "name": "publication_date",
         "dtype": "object",
         "stats": {
          "unique_count": 2,
          "nan_count": 0,
          "categories": [
           {
            "name": "9/6/2006",
            "count": 1
           },
           {
            "name": "3/14/2006",
            "count": 1
           }
          ]
         }
        },
        {
         "name": "publisher",
         "dtype": "object",
         "stats": {
          "unique_count": 2,
          "nan_count": 0,
          "categories": [
           {
            "name": "Little  Brown and Company",
            "count": 1
           },
           {
            "name": "Alfred A. Knopf",
            "count": 1
           }
          ]
         }
        },
        {
         "name": "_deepnote_index_column",
         "dtype": "int64"
        }
       ],
       "rows": [
        {
         "bookID": 41865,
         "title": "Twilight (Twilight  #1)",
         "authors": "Stephenie Meyer",
         "average_rating": 3.59,
         "isbn": "0316015849",
         "isbn13": 9780316015844,
         "language_code": "eng",
         "  num_pages": 501,
         "ratings_count": 4597666,
         "text_reviews_count": 94265,
         "publication_date": "9/6/2006",
         "publisher": "Little  Brown and Company",
         "_deepnote_index_column": 10336
        },
        {
         "bookID": 19063,
         "title": "The Book Thief",
         "authors": "Markus Zusak/Cao Xuân Việt Khương",
         "average_rating": 4.37,
         "isbn": "0375831002",
         "isbn13": 9780375831003,
         "language_code": "eng",
         "  num_pages": 552,
         "ratings_count": 1516367,
         "text_reviews_count": 86881,
         "publication_date": "3/14/2006",
         "publisher": "Alfred A. Knopf",
         "_deepnote_index_column": 5270
        }
       ]
      },
      "text/plain": "       bookID                    title                            authors  \\\n10336   41865  Twilight (Twilight  #1)                    Stephenie Meyer   \n5270    19063           The Book Thief  Markus Zusak/Cao Xuân Việt Khương   \n\n       average_rating        isbn         isbn13 language_code    num_pages  \\\n10336            3.59  0316015849  9780316015844           eng          501   \n5270             4.37  0375831002  9780375831003           eng          552   \n\n       ratings_count  text_reviews_count publication_date  \\\n10336        4597666               94265         9/6/2006   \n5270         1516367               86881        3/14/2006   \n\n                       publisher  \n10336  Little  Brown and Company  \n5270             Alfred A. Knopf  ",
      "text/html": "<div>\n<style scoped>\n    .dataframe tbody tr th:only-of-type {\n        vertical-align: middle;\n    }\n\n    .dataframe tbody tr th {\n        vertical-align: top;\n    }\n\n    .dataframe thead th {\n        text-align: right;\n    }\n</style>\n<table border=\"1\" class=\"dataframe\">\n  <thead>\n    <tr style=\"text-align: right;\">\n      <th></th>\n      <th>bookID</th>\n      <th>title</th>\n      <th>authors</th>\n      <th>average_rating</th>\n      <th>isbn</th>\n      <th>isbn13</th>\n      <th>language_code</th>\n      <th>num_pages</th>\n      <th>ratings_count</th>\n      <th>text_reviews_count</th>\n      <th>publication_date</th>\n      <th>publisher</th>\n    </tr>\n  </thead>\n  <tbody>\n    <tr>\n      <th>10336</th>\n      <td>41865</td>\n      <td>Twilight (Twilight  #1)</td>\n      <td>Stephenie Meyer</td>\n      <td>3.59</td>\n      <td>0316015849</td>\n      <td>9780316015844</td>\n      <td>eng</td>\n      <td>501</td>\n      <td>4597666</td>\n      <td>94265</td>\n      <td>9/6/2006</td>\n      <td>Little  Brown and Company</td>\n    </tr>\n    <tr>\n      <th>5270</th>\n      <td>19063</td>\n      <td>The Book Thief</td>\n      <td>Markus Zusak/Cao Xuân Việt Khương</td>\n      <td>4.37</td>\n      <td>0375831002</td>\n      <td>9780375831003</td>\n      <td>eng</td>\n      <td>552</td>\n      <td>1516367</td>\n      <td>86881</td>\n      <td>3/14/2006</td>\n      <td>Alfred A. Knopf</td>\n    </tr>\n  </tbody>\n</table>\n</div>"
     },
     "metadata": {}
    }
   ]
  },
  {
   "cell_type": "markdown",
   "source": "en esta ocacion encontramos que los datos atipicos pertenecen a los libros Twilight (Twilight #1) y The Book Thief escritos por Stephenie Meyer y Markus Zusak",
   "metadata": {
    "cell_id": "dbbb319a40e442eda7beac5d14f9a24b",
    "tags": [],
    "deepnote_cell_type": "markdown",
    "deepnote_cell_height": 74.796875
   }
  },
  {
   "cell_type": "markdown",
   "source": "Data Preprocessing\n\n1)Anomaly Detection",
   "metadata": {
    "cell_id": "5329531eaee0463086348f7f11f38469",
    "tags": [],
    "deepnote_cell_type": "markdown",
    "deepnote_cell_height": 88.796875
   }
  },
  {
   "cell_type": "code",
   "metadata": {
    "cell_id": "876029428ac94d86beec7f5a4580f3a1",
    "tags": [],
    "deepnote_to_be_reexecuted": false,
    "source_hash": "620528d1",
    "execution_start": 1656540709337,
    "execution_millis": 229,
    "deepnote_cell_type": "code",
    "deepnote_cell_height": 528.1875,
    "deepnote_output_heights": [
     21.1875,
     379
    ]
   },
   "source": "sns.boxplot(x=df['  num_pages'])",
   "execution_count": 20,
   "outputs": [
    {
     "output_type": "execute_result",
     "execution_count": 20,
     "data": {
      "text/plain": "<AxesSubplot:xlabel='  num_pages'>"
     },
     "metadata": {}
    },
    {
     "data": {
      "text/plain": "<Figure size 936x432 with 1 Axes>",
      "image/png": "[encoded data removed]"
     },
     "metadata": {
      "image/png": {
       "width": 739,
       "height": 377
      }
     },
     "output_type": "display_data"
    }
   ]
  },
  {
   "cell_type": "markdown",
   "source": "La gráfica anterior muestra puntos entre 1000 y 6000, estos son valores atípicos ya que no están incluidos en el cuadro de otra observación, es decir, no están cerca de los cuartiles.",
   "metadata": {
    "cell_id": "0bab273fc93d4b01a513a4cc3b38c14d",
    "tags": [],
    "deepnote_cell_type": "markdown",
    "deepnote_cell_height": 74.796875
   }
  },
  {
   "cell_type": "code",
   "metadata": {
    "cell_id": "0795d4a045334330a1852277e8572b8d",
    "tags": [],
    "deepnote_to_be_reexecuted": false,
    "source_hash": "1a08f482",
    "execution_start": 1656540709571,
    "execution_millis": 203,
    "deepnote_cell_type": "code",
    "deepnote_cell_height": 546.1875,
    "deepnote_output_heights": [
     21.1875,
     379
    ]
   },
   "source": "# find ratings count outliers\nsns.boxplot(x=df['ratings_count'])",
   "execution_count": 21,
   "outputs": [
    {
     "output_type": "execute_result",
     "execution_count": 21,
     "data": {
      "text/plain": "<AxesSubplot:xlabel='ratings_count'>"
     },
     "metadata": {}
    },
    {
     "data": {
      "text/plain": "<Figure size 936x432 with 1 Axes>",
      "image/png": "[encoded data removed]"
     },
     "metadata": {
      "image/png": {
       "width": 739,
       "height": 377
      }
     },
     "output_type": "display_data"
    }
   ]
  },
  {
   "cell_type": "markdown",
   "source": "La gráfica anterior muestra puntos entre 1 y 5 que son valores atípicos.",
   "metadata": {
    "cell_id": "40f691742d31450ebbff5c22a83f3826",
    "tags": [],
    "deepnote_cell_type": "markdown",
    "deepnote_cell_height": 52.390625
   }
  },
  {
   "cell_type": "code",
   "metadata": {
    "cell_id": "7ff15edb9ef7420bbb1441ff795a57e5",
    "tags": [],
    "deepnote_to_be_reexecuted": false,
    "source_hash": "6b84121f",
    "execution_start": 1656540709777,
    "execution_millis": 200,
    "deepnote_cell_type": "code",
    "deepnote_cell_height": 528.1875,
    "deepnote_output_heights": [
     21.1875,
     379
    ]
   },
   "source": "sns.boxplot(x=df['text_reviews_count'])",
   "execution_count": 22,
   "outputs": [
    {
     "output_type": "execute_result",
     "execution_count": 22,
     "data": {
      "text/plain": "<AxesSubplot:xlabel='text_reviews_count'>"
     },
     "metadata": {}
    },
    {
     "data": {
      "text/plain": "<Figure size 936x432 with 1 Axes>",
      "image/png": "[encoded data removed]"
     },
     "metadata": {
      "image/png": {
       "width": 739,
       "height": 377
      }
     },
     "output_type": "display_data"
    }
   ]
  },
  {
   "cell_type": "markdown",
   "source": "La gráfica anterior muestra puntos entre 20,000 y 80,000 que son valores atípicos",
   "metadata": {
    "cell_id": "da33f6f4ac144f32963fc810bf357eb4",
    "tags": [],
    "deepnote_cell_type": "markdown",
    "deepnote_cell_height": 52.390625
   }
  },
  {
   "cell_type": "code",
   "metadata": {
    "cell_id": "e46c6520b9ef472199d36d281238477e",
    "tags": [],
    "deepnote_to_be_reexecuted": false,
    "source_hash": "86fcbe2e",
    "execution_start": 1656540709978,
    "execution_millis": 10,
    "deepnote_cell_type": "code",
    "deepnote_cell_height": 189
   },
   "source": "# remove outliers from no. of pages \n# remove outliers from ratings_count\n# remove outliers from text_reviews_count\n\nremove = df.drop(df.index[df['  num_pages'] >= 1000])\nremove = df.drop(data.index[df['ratings_count'] >= 1])\nremove = df.drop(df.index[df['text_reviews_count'] >= 20000])",
   "execution_count": 23,
   "outputs": []
  },
  {
   "cell_type": "markdown",
   "source": "Machine Learning Model",
   "metadata": {
    "cell_id": "9f6073928bf44746924ad85460d42a3c",
    "tags": [],
    "deepnote_cell_type": "markdown",
    "deepnote_cell_height": 52.390625
   }
  },
  {
   "cell_type": "code",
   "metadata": {
    "cell_id": "5294270296934941bf6523f030dc3f06",
    "tags": [],
    "deepnote_to_be_reexecuted": false,
    "source_hash": "25ae320",
    "execution_start": 1656540710034,
    "execution_millis": 102,
    "deepnote_cell_type": "code",
    "deepnote_cell_height": 135
   },
   "source": "from sklearn import metrics\nfrom sklearn.preprocessing import StandardScaler\nfrom sklearn.linear_model import LinearRegression\nfrom sklearn.model_selection import train_test_split",
   "execution_count": 24,
   "outputs": []
  },
  {
   "cell_type": "code",
   "metadata": {
    "cell_id": "1fff129e864a4b4087ac081f5331660f",
    "tags": [],
    "deepnote_to_be_reexecuted": false,
    "source_hash": "3ebadf2b",
    "execution_start": 1656540710141,
    "execution_millis": 18,
    "deepnote_cell_type": "code",
    "deepnote_cell_height": 135
   },
   "source": "# divide the data into attributes and labels\nX = remove.drop(['average_rating', 'language_code', 'isbn','title','authors','publication_date',\n                'publisher'], axis = 1)\ny = remove['average_rating']",
   "execution_count": 25,
   "outputs": []
  },
  {
   "cell_type": "code",
   "metadata": {
    "cell_id": "ee6e86f984f74d5696e8e9047ecc0892",
    "tags": [],
    "deepnote_to_be_reexecuted": false,
    "source_hash": "18e8c7fd",
    "execution_start": 1656540710159,
    "execution_millis": 1,
    "deepnote_cell_type": "code",
    "deepnote_cell_height": 99
   },
   "source": "# split 80% of the data to the training set and 20% of the data to test set \nX_train, X_test, y_train, y_test = train_test_split(X, y, test_size = 0.25, random_state = 10)",
   "execution_count": 26,
   "outputs": []
  },
  {
   "cell_type": "code",
   "metadata": {
    "cell_id": "ec06292fcc2241ce90e81673cdfe3200",
    "tags": [],
    "deepnote_to_be_reexecuted": false,
    "source_hash": "29b6cb74",
    "execution_start": 1656540710160,
    "execution_millis": 14,
    "deepnote_cell_type": "code",
    "deepnote_cell_height": 175.375,
    "deepnote_output_heights": [
     60.390625
    ]
   },
   "source": "lr = LinearRegression()\nlr.fit(X_train, y_train)",
   "execution_count": 27,
   "outputs": [
    {
     "output_type": "execute_result",
     "execution_count": 27,
     "data": {
      "text/plain": "LinearRegression()",
      "text/html": "<style>#sk-container-id-1 {color: black;background-color: white;}#sk-container-id-1 pre{padding: 0;}#sk-container-id-1 div.sk-toggleable {background-color: white;}#sk-container-id-1 label.sk-toggleable__label {cursor: pointer;display: block;width: 100%;margin-bottom: 0;padding: 0.3em;box-sizing: border-box;text-align: center;}#sk-container-id-1 label.sk-toggleable__label-arrow:before {content: \"▸\";float: left;margin-right: 0.25em;color: #696969;}#sk-container-id-1 label.sk-toggleable__label-arrow:hover:before {color: black;}#sk-container-id-1 div.sk-estimator:hover label.sk-toggleable__label-arrow:before {color: black;}#sk-container-id-1 div.sk-toggleable__content {max-height: 0;max-width: 0;overflow: hidden;text-align: left;background-color: #f0f8ff;}#sk-container-id-1 div.sk-toggleable__content pre {margin: 0.2em;color: black;border-radius: 0.25em;background-color: #f0f8ff;}#sk-container-id-1 input.sk-toggleable__control:checked~div.sk-toggleable__content {max-height: 200px;max-width: 100%;overflow: auto;}#sk-container-id-1 input.sk-toggleable__control:checked~label.sk-toggleable__label-arrow:before {content: \"▾\";}#sk-container-id-1 div.sk-estimator input.sk-toggleable__control:checked~label.sk-toggleable__label {background-color: #d4ebff;}#sk-container-id-1 div.sk-label input.sk-toggleable__control:checked~label.sk-toggleable__label {background-color: #d4ebff;}#sk-container-id-1 input.sk-hidden--visually {border: 0;clip: rect(1px 1px 1px 1px);clip: rect(1px, 1px, 1px, 1px);height: 1px;margin: -1px;overflow: hidden;padding: 0;position: absolute;width: 1px;}#sk-container-id-1 div.sk-estimator {font-family: monospace;background-color: #f0f8ff;border: 1px dotted black;border-radius: 0.25em;box-sizing: border-box;margin-bottom: 0.5em;}#sk-container-id-1 div.sk-estimator:hover {background-color: #d4ebff;}#sk-container-id-1 div.sk-parallel-item::after {content: \"\";width: 100%;border-bottom: 1px solid gray;flex-grow: 1;}#sk-container-id-1 div.sk-label:hover label.sk-toggleable__label {background-color: #d4ebff;}#sk-container-id-1 div.sk-serial::before {content: \"\";position: absolute;border-left: 1px solid gray;box-sizing: border-box;top: 0;bottom: 0;left: 50%;z-index: 0;}#sk-container-id-1 div.sk-serial {display: flex;flex-direction: column;align-items: center;background-color: white;padding-right: 0.2em;padding-left: 0.2em;position: relative;}#sk-container-id-1 div.sk-item {position: relative;z-index: 1;}#sk-container-id-1 div.sk-parallel {display: flex;align-items: stretch;justify-content: center;background-color: white;position: relative;}#sk-container-id-1 div.sk-item::before, #sk-container-id-1 div.sk-parallel-item::before {content: \"\";position: absolute;border-left: 1px solid gray;box-sizing: border-box;top: 0;bottom: 0;left: 50%;z-index: -1;}#sk-container-id-1 div.sk-parallel-item {display: flex;flex-direction: column;z-index: 1;position: relative;background-color: white;}#sk-container-id-1 div.sk-parallel-item:first-child::after {align-self: flex-end;width: 50%;}#sk-container-id-1 div.sk-parallel-item:last-child::after {align-self: flex-start;width: 50%;}#sk-container-id-1 div.sk-parallel-item:only-child::after {width: 0;}#sk-container-id-1 div.sk-dashed-wrapped {border: 1px dashed gray;margin: 0 0.4em 0.5em 0.4em;box-sizing: border-box;padding-bottom: 0.4em;background-color: white;}#sk-container-id-1 div.sk-label label {font-family: monospace;font-weight: bold;display: inline-block;line-height: 1.2em;}#sk-container-id-1 div.sk-label-container {text-align: center;}#sk-container-id-1 div.sk-container {/* jupyter's `normalize.less` sets `[hidden] { display: none; }` but bootstrap.min.css set `[hidden] { display: none !important; }` so we also need the `!important` here to be able to override the default hidden behavior on the sphinx rendered scikit-learn.org. See: https://github.com/scikit-learn/scikit-learn/issues/21755 */display: inline-block !important;position: relative;}#sk-container-id-1 div.sk-text-repr-fallback {display: none;}</style><div id=\"sk-container-id-1\" class=\"sk-top-container\"><div class=\"sk-text-repr-fallback\"><pre>LinearRegression()</pre><b>In a Jupyter environment, please rerun this cell to show the HTML representation or trust the notebook. <br />On GitHub, the HTML representation is unable to render, please try loading this page with nbviewer.org.</b></div><div class=\"sk-container\" hidden><div class=\"sk-item\"><div class=\"sk-estimator sk-toggleable\"><input class=\"sk-toggleable__control sk-hidden--visually\" id=\"sk-estimator-id-1\" type=\"checkbox\" checked><label for=\"sk-estimator-id-1\" class=\"sk-toggleable__label sk-toggleable__label-arrow\">LinearRegression</label><div class=\"sk-toggleable__content\"><pre>LinearRegression()</pre></div></div></div></div></div>"
     },
     "metadata": {}
    }
   ]
  },
  {
   "cell_type": "code",
   "metadata": {
    "cell_id": "2dfaf22b659e41cc9761ab264a619ca6",
    "tags": [],
    "deepnote_to_be_reexecuted": false,
    "source_hash": "e5d27a54",
    "execution_start": 1656540710174,
    "execution_millis": 23,
    "deepnote_cell_type": "code",
    "deepnote_cell_height": 81
   },
   "source": "predictions = lr.predict(X_test)",
   "execution_count": 28,
   "outputs": []
  },
  {
   "cell_type": "markdown",
   "source": "Ahora compare los valores de salida reales para X_test con los valores pronosticados.",
   "metadata": {
    "cell_id": "701f80d03f9d4fd0aa84af847bc4a9a4",
    "tags": [],
    "deepnote_cell_type": "markdown",
    "deepnote_cell_height": 52.390625
   }
  },
  {
   "cell_type": "code",
   "metadata": {
    "cell_id": "db66ed765f94426a85e0faedc46b4318",
    "tags": [],
    "deepnote_to_be_reexecuted": false,
    "source_hash": "aa2b7a13",
    "execution_start": 1656540710221,
    "execution_millis": 71,
    "deepnote_cell_type": "code",
    "deepnote_cell_height": 618
   },
   "source": "pred = pd.DataFrame({'Actual': y_test.tolist(), 'Predicted': predictions.tolist()}).head(25)\npred.head(10)",
   "execution_count": 29,
   "outputs": [
    {
     "output_type": "execute_result",
     "execution_count": 29,
     "data": {
      "application/vnd.deepnote.dataframe.v3+json": {
       "column_count": 2,
       "row_count": 10,
       "columns": [
        {
         "name": "Actual",
         "dtype": "float64",
         "stats": {
          "unique_count": 9,
          "nan_count": 0,
          "min": "3.61",
          "max": "4.19",
          "histogram": [
           {
            "bin_start": 3.61,
            "bin_end": 3.668,
            "count": 1
           },
           {
            "bin_start": 3.668,
            "bin_end": 3.726,
            "count": 0
           },
           {
            "bin_start": 3.726,
            "bin_end": 3.784,
            "count": 1
           },
           {
            "bin_start": 3.784,
            "bin_end": 3.842,
            "count": 0
           },
           {
            "bin_start": 3.842,
            "bin_end": 3.9000000000000004,
            "count": 2
           },
           {
            "bin_start": 3.9000000000000004,
            "bin_end": 3.958,
            "count": 0
           },
           {
            "bin_start": 3.958,
            "bin_end": 4.016,
            "count": 2
           },
           {
            "bin_start": 4.016,
            "bin_end": 4.074,
            "count": 0
           },
           {
            "bin_start": 4.074,
            "bin_end": 4.132000000000001,
            "count": 2
           },
           {
            "bin_start": 4.132000000000001,
            "bin_end": 4.19,
            "count": 2
           }
          ]
         }
        },
        {
         "name": "Predicted",
         "dtype": "float64",
         "stats": {
          "unique_count": 10,
          "nan_count": 0,
          "min": "3.8833836858969977",
          "max": "3.993798355297001",
          "histogram": [
           {
            "bin_start": 3.8833836858969977,
            "bin_end": 3.894425152836998,
            "count": 1
           },
           {
            "bin_start": 3.894425152836998,
            "bin_end": 3.9054666197769983,
            "count": 1
           },
           {
            "bin_start": 3.9054666197769983,
            "bin_end": 3.916508086716999,
            "count": 3
           },
           {
            "bin_start": 3.916508086716999,
            "bin_end": 3.927549553656999,
            "count": 1
           },
           {
            "bin_start": 3.927549553656999,
            "bin_end": 3.9385910205969994,
            "count": 2
           },
           {
            "bin_start": 3.9385910205969994,
            "bin_end": 3.949632487537,
            "count": 1
           },
           {
            "bin_start": 3.949632487537,
            "bin_end": 3.960673954477,
            "count": 0
           },
           {
            "bin_start": 3.960673954477,
            "bin_end": 3.9717154214170005,
            "count": 0
           },
           {
            "bin_start": 3.9717154214170005,
            "bin_end": 3.9827568883570006,
            "count": 0
           },
           {
            "bin_start": 3.9827568883570006,
            "bin_end": 3.993798355297001,
            "count": 1
           }
          ]
         }
        },
        {
         "name": "_deepnote_index_column",
         "dtype": "int64"
        }
       ],
       "rows": [
        {
         "Actual": 4.12,
         "Predicted": 3.916244418095551,
         "_deepnote_index_column": 0
        },
        {
         "Actual": 3.96,
         "Predicted": 3.9070081411436934,
         "_deepnote_index_column": 1
        },
        {
         "Actual": 4.17,
         "Predicted": 3.9045352380894043,
         "_deepnote_index_column": 2
        },
        {
         "Actual": 4.12,
         "Predicted": 3.930454340134211,
         "_deepnote_index_column": 3
        },
        {
         "Actual": 3.97,
         "Predicted": 3.923684588113046,
         "_deepnote_index_column": 4
        },
        {
         "Actual": 3.89,
         "Predicted": 3.8833836858969977,
         "_deepnote_index_column": 5
        },
        {
         "Actual": 3.78,
         "Predicted": 3.993798355297001,
         "_deepnote_index_column": 6
        },
        {
         "Actual": 3.85,
         "Predicted": 3.9330987664012333,
         "_deepnote_index_column": 7
        },
        {
         "Actual": 3.61,
         "Predicted": 3.908343092522227,
         "_deepnote_index_column": 8
        },
        {
         "Actual": 4.19,
         "Predicted": 3.939249662869773,
         "_deepnote_index_column": 9
        }
       ]
      },
      "text/plain": "   Actual  Predicted\n0    4.12   3.916244\n1    3.96   3.907008\n2    4.17   3.904535\n3    4.12   3.930454\n4    3.97   3.923685\n5    3.89   3.883384\n6    3.78   3.993798\n7    3.85   3.933099\n8    3.61   3.908343\n9    4.19   3.939250",
      "text/html": "<div>\n<style scoped>\n    .dataframe tbody tr th:only-of-type {\n        vertical-align: middle;\n    }\n\n    .dataframe tbody tr th {\n        vertical-align: top;\n    }\n\n    .dataframe thead th {\n        text-align: right;\n    }\n</style>\n<table border=\"1\" class=\"dataframe\">\n  <thead>\n    <tr style=\"text-align: right;\">\n      <th></th>\n      <th>Actual</th>\n      <th>Predicted</th>\n    </tr>\n  </thead>\n  <tbody>\n    <tr>\n      <th>0</th>\n      <td>4.12</td>\n      <td>3.916244</td>\n    </tr>\n    <tr>\n      <th>1</th>\n      <td>3.96</td>\n      <td>3.907008</td>\n    </tr>\n    <tr>\n      <th>2</th>\n      <td>4.17</td>\n      <td>3.904535</td>\n    </tr>\n    <tr>\n      <th>3</th>\n      <td>4.12</td>\n      <td>3.930454</td>\n    </tr>\n    <tr>\n      <th>4</th>\n      <td>3.97</td>\n      <td>3.923685</td>\n    </tr>\n    <tr>\n      <th>5</th>\n      <td>3.89</td>\n      <td>3.883384</td>\n    </tr>\n    <tr>\n      <th>6</th>\n      <td>3.78</td>\n      <td>3.993798</td>\n    </tr>\n    <tr>\n      <th>7</th>\n      <td>3.85</td>\n      <td>3.933099</td>\n    </tr>\n    <tr>\n      <th>8</th>\n      <td>3.61</td>\n      <td>3.908343</td>\n    </tr>\n    <tr>\n      <th>9</th>\n      <td>4.19</td>\n      <td>3.939250</td>\n    </tr>\n  </tbody>\n</table>\n</div>"
     },
     "metadata": {}
    }
   ]
  },
  {
   "cell_type": "code",
   "metadata": {
    "cell_id": "991c79e9bd074c868499293621535ce6",
    "tags": [],
    "deepnote_to_be_reexecuted": false,
    "source_hash": "f32fe3f0",
    "execution_start": 1656540710307,
    "execution_millis": 445,
    "deepnote_cell_type": "code",
    "deepnote_cell_height": 587.1875,
    "deepnote_output_heights": [
     21.1875,
     420
    ]
   },
   "source": "# visualise the above comparison result\npred.plot(kind='bar', figsize=(13, 7))",
   "execution_count": 30,
   "outputs": [
    {
     "output_type": "execute_result",
     "execution_count": 30,
     "data": {
      "text/plain": "<AxesSubplot:>"
     },
     "metadata": {}
    },
    {
     "data": {
      "text/plain": "<Figure size 936x504 with 1 Axes>",
      "image/png": "[encoded data removed]"
     },
     "metadata": {
      "image/png": {
       "width": 756,
       "height": 418
      }
     },
     "output_type": "display_data"
    }
   ]
  },
  {
   "cell_type": "markdown",
   "source": "Aunque el modelo no es muy preciso, los porcentajes previstos se acercan a los reales.",
   "metadata": {
    "cell_id": "95dfa3c9333d4f6a83b21b441ce1ac99",
    "tags": [],
    "deepnote_cell_type": "markdown",
    "deepnote_cell_height": 52.390625
   }
  },
  {
   "cell_type": "code",
   "metadata": {
    "cell_id": "3a1f7e742a594bfdac30ed362722742c",
    "tags": [],
    "deepnote_to_be_reexecuted": false,
    "source_hash": "9336bed1",
    "execution_start": 1656540710757,
    "execution_millis": 5,
    "deepnote_cell_type": "code",
    "deepnote_cell_height": 206
   },
   "source": "# evaluate the performance of the algorithm\nprint('MAE:', metrics.mean_absolute_error(y_test, predictions))\nprint('MSE:', metrics.mean_squared_error(y_test, predictions))\nprint('RMSE:', np.sqrt(metrics.mean_squared_error(y_test, predictions)))",
   "execution_count": 31,
   "outputs": [
    {
     "name": "stdout",
     "text": "MAE: 0.2378207183822327\nMSE: 0.15397733797404056\nRMSE: 0.39239946224993805\n",
     "output_type": "stream"
    }
   ]
  },
  {
   "cell_type": "markdown",
   "source": "<a style='text-decoration:none;line-height:16px;display:flex;color:#5B5B62;padding:10px;justify-content:end;' href='https://deepnote.com?utm_source=created-in-deepnote-cell&projectId=88732bc0-c001-4d3f-a58f-a9a2a3ab7388' target=\"_blank\">\n<img alt='Created in deepnote.com' style='display:inline;max-height:16px;margin:0px;margin-right:7.5px;' src='data:image/svg+xml;base64,PD94bWwgdmVyc2lvbj0iMS4wIiBlbmNvZGluZz0iVVRGLTgiPz4KPHN2ZyB3aWR0aD0iODBweCIgaGVpZ2h0PSI4MHB4IiB2aWV3Qm94PSIwIDAgODAgODAiIHZlcnNpb249IjEuMSIgeG1sbnM9Imh0dHA6Ly93d3cudzMub3JnLzIwMDAvc3ZnIiB4bWxuczp4bGluaz0iaHR0cDovL3d3dy53My5vcmcvMTk5OS94bGluayI+CiAgICA8IS0tIEdlbmVyYXRvcjogU2tldGNoIDU0LjEgKDc2NDkwKSAtIGh0dHBzOi8vc2tldGNoYXBwLmNvbSAtLT4KICAgIDx0aXRsZT5Hcm91cCAzPC90aXRsZT4KICAgIDxkZXNjPkNyZWF0ZWQgd2l0aCBTa2V0Y2guPC9kZXNjPgogICAgPGcgaWQ9IkxhbmRpbmciIHN0cm9rZT0ibm9uZSIgc3Ryb2tlLXdpZHRoPSIxIiBmaWxsPSJub25lIiBmaWxsLXJ1bGU9ImV2ZW5vZGQiPgogICAgICAgIDxnIGlkPSJBcnRib2FyZCIgdHJhbnNmb3JtPSJ0cmFuc2xhdGUoLTEyMzUuMDAwMDAwLCAtNzkuMDAwMDAwKSI+CiAgICAgICAgICAgIDxnIGlkPSJHcm91cC0zIiB0cmFuc2Zvcm09InRyYW5zbGF0ZSgxMjM1LjAwMDAwMCwgNzkuMDAwMDAwKSI+CiAgICAgICAgICAgICAgICA8cG9seWdvbiBpZD0iUGF0aC0yMCIgZmlsbD0iIzAyNjVCNCIgcG9pbnRzPSIyLjM3NjIzNzYyIDgwIDM4LjA0NzY2NjcgODAgNTcuODIxNzgyMiA3My44MDU3NTkyIDU3LjgyMTc4MjIgMzIuNzU5MjczOSAzOS4xNDAyMjc4IDMxLjY4MzE2ODMiPjwvcG9seWdvbj4KICAgICAgICAgICAgICAgIDxwYXRoIGQ9Ik0zNS4wMDc3MTgsODAgQzQyLjkwNjIwMDcsNzYuNDU0OTM1OCA0Ny41NjQ5MTY3LDcxLjU0MjI2NzEgNDguOTgzODY2LDY1LjI2MTk5MzkgQzUxLjExMjI4OTksNTUuODQxNTg0MiA0MS42NzcxNzk1LDQ5LjIxMjIyODQgMjUuNjIzOTg0Niw0OS4yMTIyMjg0IEMyNS40ODQ5Mjg5LDQ5LjEyNjg0NDggMjkuODI2MTI5Niw0My4yODM4MjQ4IDM4LjY0NzU4NjksMzEuNjgzMTY4MyBMNzIuODcxMjg3MSwzMi41NTQ0MjUgTDY1LjI4MDk3Myw2Ny42NzYzNDIxIEw1MS4xMTIyODk5LDc3LjM3NjE0NCBMMzUuMDA3NzE4LDgwIFoiIGlkPSJQYXRoLTIyIiBmaWxsPSIjMDAyODY4Ij48L3BhdGg+CiAgICAgICAgICAgICAgICA8cGF0aCBkPSJNMCwzNy43MzA0NDA1IEwyNy4xMTQ1MzcsMC4yNTcxMTE0MzYgQzYyLjM3MTUxMjMsLTEuOTkwNzE3MDEgODAsMTAuNTAwMzkyNyA4MCwzNy43MzA0NDA1IEM4MCw2NC45NjA0ODgyIDY0Ljc3NjUwMzgsNzkuMDUwMzQxNCAzNC4zMjk1MTEzLDgwIEM0Ny4wNTUzNDg5LDc3LjU2NzA4MDggNTMuNDE4MjY3Nyw3MC4zMTM2MTAzIDUzLjQxODI2NzcsNTguMjM5NTg4NSBDNTMuNDE4MjY3Nyw0MC4xMjg1NTU3IDM2LjMwMzk1NDQsMzcuNzMwNDQwNSAyNS4yMjc0MTcsMzcuNzMwNDQwNSBDMTcuODQzMDU4NiwzNy43MzA0NDA1IDkuNDMzOTE5NjYsMzcuNzMwNDQwNSAwLDM3LjczMDQ0MDUgWiIgaWQ9IlBhdGgtMTkiIGZpbGw9IiMzNzkzRUYiPjwvcGF0aD4KICAgICAgICAgICAgPC9nPgogICAgICAgIDwvZz4KICAgIDwvZz4KPC9zdmc+' > </img>\nCreated in <span style='font-weight:600;margin-left:4px;'>Deepnote</span></a>",
   "metadata": {
    "tags": [],
    "created_in_deepnote_cell": true,
    "deepnote_cell_type": "markdown"
   }
  }
 ],
 "nbformat": 4,
 "nbformat_minor": 2,
 "metadata": {
  "orig_nbformat": 2,
  "deepnote": {},
  "deepnote_notebook_id": "a98c1a21-ae83-4898-91fa-ca84ca5c99fe",
  "deepnote_execution_queue": []
 }
}